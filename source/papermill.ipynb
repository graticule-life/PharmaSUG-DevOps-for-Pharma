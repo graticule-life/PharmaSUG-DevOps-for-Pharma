{
 "cells": [
  {
   "cell_type": "markdown",
   "metadata": {},
   "source": [
    "## Setup"
   ]
  },
  {
   "cell_type": "code",
   "execution_count": 1,
   "metadata": {},
   "outputs": [],
   "source": [
    "from notebooks.helpers.config import (\n",
    "    OUTPUT_NB_PATH,\n",
    "    STUDY_END_DATE,\n",
    "    STUDY_START_DATE,\n",
    ")\n",
    "from notebooks.helpers.jupytext_converter import convert_file_and_run_ipynb"
   ]
  },
  {
   "cell_type": "markdown",
   "metadata": {},
   "source": [
    "Check if the output directory exists and create it if it doesn't"
   ]
  },
  {
   "cell_type": "code",
   "execution_count": 2,
   "metadata": {},
   "outputs": [],
   "source": [
    "OUTPUT_NB_PATH.mkdir(parents=True, exist_ok=True)"
   ]
  },
  {
   "cell_type": "markdown",
   "metadata": {},
   "source": [
    "## Set up notebooks for papermill execution\n",
    "\n",
    "<br>\n",
    "\n",
    "### Run Python notebooks"
   ]
  },
  {
   "cell_type": "code",
   "execution_count": 3,
   "metadata": {},
   "outputs": [],
   "source": [
    "py_parameters = {\n",
    "    \"STUDY_START_DATE\": STUDY_START_DATE,\n",
    "    \"STUDY_END_DATE\": STUDY_END_DATE,\n",
    "}\n",
    "\n",
    "py_notebooks = [\n",
    "    \"01_inclusion.ipynb\"\n",
    "]"
   ]
  },
  {
   "cell_type": "code",
   "execution_count": null,
   "metadata": {},
   "outputs": [],
   "source": [
    "convert_file_and_run_ipynb(\n",
    "    notebooks=py_notebooks,\n",
    "    output_dir=OUTPUT_NB_PATH,\n",
    "    parameters=py_parameters,\n",
    "    language=\"python\",\n",
    ")"
   ]
  },
  {
   "cell_type": "markdown",
   "metadata": {},
   "source": [
    "### Run R notebooks"
   ]
  },
  {
   "cell_type": "code",
   "execution_count": null,
   "metadata": {},
   "outputs": [],
   "source": [
    "r_parameters = {\n",
    "    \"STUDY_START_DATE\": STUDY_START_DATE,\n",
    "    \"STUDY_END_DATE\": STUDY_END_DATE,\n",
    "}\n",
    "\n",
    "r_notebooks = [\n",
    "    \"02_generate_tfl.Rmd\"\n",
    "]\n",
    "\n",
    "convert_file_and_run_ipynb(\n",
    "    notebooks=r_notebooks,\n",
    "    output_dir=OUTPUT_NB_PATH,\n",
    "    parameters=r_parameters,\n",
    "    language=\"R\"\n",
    ")"
   ]
  }
 ],
 "metadata": {
  "kernelspec": {
   "display_name": "venv",
   "language": "python",
   "name": "python3"
  },
  "language_info": {
   "codemirror_mode": {
    "name": "ipython",
    "version": 3
   },
   "file_extension": ".py",
   "mimetype": "text/x-python",
   "name": "python",
   "nbconvert_exporter": "python",
   "pygments_lexer": "ipython3",
   "version": "3.12.8"
  }
 },
 "nbformat": 4,
 "nbformat_minor": 2
}
