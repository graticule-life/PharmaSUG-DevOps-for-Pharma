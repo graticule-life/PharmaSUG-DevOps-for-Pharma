{
 "cells": [
  {
   "cell_type": "code",
   "execution_count": 1,
   "id": "8b011a84",
   "metadata": {
    "execution": {
     "iopub.execute_input": "2025-03-11T23:05:06.906204Z",
     "iopub.status.busy": "2025-03-11T23:05:06.905991Z",
     "iopub.status.idle": "2025-03-11T23:05:07.003144Z",
     "shell.execute_reply": "2025-03-11T23:05:07.002867Z"
    },
    "papermill": {
     "duration": 0.101194,
     "end_time": "2025-03-11T23:05:07.004017",
     "exception": false,
     "start_time": "2025-03-11T23:05:06.902823",
     "status": "completed"
    },
    "tags": []
   },
   "outputs": [],
   "source": [
    "from notebooks.helpers.config import STUDY_START_DATE, STUDY_END_DATE\n",
    "from notebooks.helpers.db import get_engine"
   ]
  },
  {
   "cell_type": "code",
   "execution_count": 2,
   "id": "a0763278",
   "metadata": {
    "execution": {
     "iopub.execute_input": "2025-03-11T23:05:07.007466Z",
     "iopub.status.busy": "2025-03-11T23:05:07.007350Z",
     "iopub.status.idle": "2025-03-11T23:05:07.013715Z",
     "shell.execute_reply": "2025-03-11T23:05:07.013456Z"
    },
    "papermill": {
     "duration": 0.008503,
     "end_time": "2025-03-11T23:05:07.014404",
     "exception": false,
     "start_time": "2025-03-11T23:05:07.005901",
     "status": "completed"
    },
    "tags": []
   },
   "outputs": [],
   "source": [
    "engine = get_engine()"
   ]
  },
  {
   "cell_type": "code",
   "execution_count": 3,
   "id": "21516878",
   "metadata": {
    "execution": {
     "iopub.execute_input": "2025-03-11T23:05:07.017159Z",
     "iopub.status.busy": "2025-03-11T23:05:07.016962Z",
     "iopub.status.idle": "2025-03-11T23:05:07.503387Z",
     "shell.execute_reply": "2025-03-11T23:05:07.503170Z"
    },
    "papermill": {
     "duration": 0.488639,
     "end_time": "2025-03-11T23:05:07.504199",
     "exception": false,
     "start_time": "2025-03-11T23:05:07.015560",
     "status": "completed"
    },
    "tags": []
   },
   "outputs": [
    {
     "data": {
      "text/html": [
       "<span style=\"None\">The &#x27;toml&#x27; package isn&#x27;t installed. To load settings from pyproject.toml or ~/.jupysql/config, install with: pip install toml</span>"
      ],
      "text/plain": [
       "The 'toml' package isn't installed. To load settings from pyproject.toml or ~/.jupysql/config, install with: pip install toml"
      ]
     },
     "metadata": {},
     "output_type": "display_data"
    }
   ],
   "source": [
    "%load_ext sql\n",
    "%sql engine"
   ]
  },
  {
   "cell_type": "code",
   "execution_count": 4,
   "id": "757395d5",
   "metadata": {
    "execution": {
     "iopub.execute_input": "2025-03-11T23:05:07.507431Z",
     "iopub.status.busy": "2025-03-11T23:05:07.507202Z",
     "iopub.status.idle": "2025-03-11T23:05:07.508897Z",
     "shell.execute_reply": "2025-03-11T23:05:07.508659Z"
    },
    "papermill": {
     "duration": 0.003721,
     "end_time": "2025-03-11T23:05:07.509499",
     "exception": false,
     "start_time": "2025-03-11T23:05:07.505778",
     "status": "completed"
    },
    "tags": [
     "parameters"
    ]
   },
   "outputs": [],
   "source": [
    "# Using dates defined in the config\n",
    "STUDY_START_DATE = STUDY_START_DATE\n",
    "STUDY_END_DATE = STUDY_END_DATE"
   ]
  },
  {
   "cell_type": "code",
   "execution_count": 5,
   "id": "1a319468",
   "metadata": {
    "execution": {
     "iopub.execute_input": "2025-03-11T23:05:07.511326Z",
     "iopub.status.busy": "2025-03-11T23:05:07.511229Z",
     "iopub.status.idle": "2025-03-11T23:05:07.512672Z",
     "shell.execute_reply": "2025-03-11T23:05:07.512475Z"
    },
    "papermill": {
     "duration": 0.003004,
     "end_time": "2025-03-11T23:05:07.513238",
     "exception": false,
     "start_time": "2025-03-11T23:05:07.510234",
     "status": "completed"
    },
    "tags": [
     "injected-parameters"
    ]
   },
   "outputs": [],
   "source": [
    "# Parameters\n",
    "STUDY_START_DATE = \"2024-01-01\"\n",
    "STUDY_END_DATE = \"2024-12-31\"\n"
   ]
  },
  {
   "cell_type": "code",
   "execution_count": 6,
   "id": "0277772d",
   "metadata": {
    "execution": {
     "iopub.execute_input": "2025-03-11T23:05:07.515030Z",
     "iopub.status.busy": "2025-03-11T23:05:07.514945Z",
     "iopub.status.idle": "2025-03-11T23:05:07.523384Z",
     "shell.execute_reply": "2025-03-11T23:05:07.523182Z"
    },
    "papermill": {
     "duration": 0.010024,
     "end_time": "2025-03-11T23:05:07.524002",
     "exception": false,
     "start_time": "2025-03-11T23:05:07.513978",
     "status": "completed"
    },
    "tags": []
   },
   "outputs": [
    {
     "data": {
      "text/html": [
       "<span style=\"None\">Running query in &#x27;sqlite:////Users/silviaorozco/Documents/repos/PharmaSUG-DevOps-for-Pharma/sample.sqlite&#x27;</span>"
      ],
      "text/plain": [
       "Running query in 'sqlite:////Users/silviaorozco/Documents/repos/PharmaSUG-DevOps-for-Pharma/sample.sqlite'"
      ]
     },
     "metadata": {},
     "output_type": "display_data"
    },
    {
     "data": {
      "text/html": [
       "<table>\n",
       "    <thead>\n",
       "        <tr>\n",
       "            <th>PATIENT_ID</th>\n",
       "            <th>AGE</th>\n",
       "            <th>HOSPITAL_DATE</th>\n",
       "            <th>HOSPITALIZATION_COUNT</th>\n",
       "            <th>IS_SMOKER</th>\n",
       "        </tr>\n",
       "    </thead>\n",
       "    <tbody>\n",
       "        <tr>\n",
       "            <td>1000</td>\n",
       "            <td>87</td>\n",
       "            <td>2024-11-22</td>\n",
       "            <td>9</td>\n",
       "            <td>0</td>\n",
       "        </tr>\n",
       "        <tr>\n",
       "            <td>1001</td>\n",
       "            <td>26</td>\n",
       "            <td>2022-07-27</td>\n",
       "            <td>10</td>\n",
       "            <td>1</td>\n",
       "        </tr>\n",
       "        <tr>\n",
       "            <td>1002</td>\n",
       "            <td>26</td>\n",
       "            <td>2023-09-06</td>\n",
       "            <td>4</td>\n",
       "            <td>0</td>\n",
       "        </tr>\n",
       "        <tr>\n",
       "            <td>1003</td>\n",
       "            <td>18</td>\n",
       "            <td>2023-11-26</td>\n",
       "            <td>7</td>\n",
       "            <td>1</td>\n",
       "        </tr>\n",
       "        <tr>\n",
       "            <td>1004</td>\n",
       "            <td>68</td>\n",
       "            <td>2022-06-20</td>\n",
       "            <td>10</td>\n",
       "            <td>0</td>\n",
       "        </tr>\n",
       "    </tbody>\n",
       "</table>"
      ],
      "text/plain": [
       "+------------+-----+---------------+-----------------------+-----------+\n",
       "| PATIENT_ID | AGE | HOSPITAL_DATE | HOSPITALIZATION_COUNT | IS_SMOKER |\n",
       "+------------+-----+---------------+-----------------------+-----------+\n",
       "|    1000    |  87 |   2024-11-22  |           9           |     0     |\n",
       "|    1001    |  26 |   2022-07-27  |           10          |     1     |\n",
       "|    1002    |  26 |   2023-09-06  |           4           |     0     |\n",
       "|    1003    |  18 |   2023-11-26  |           7           |     1     |\n",
       "|    1004    |  68 |   2022-06-20  |           10          |     0     |\n",
       "+------------+-----+---------------+-----------------------+-----------+"
      ]
     },
     "execution_count": 6,
     "metadata": {},
     "output_type": "execute_result"
    }
   ],
   "source": [
    "%%sql \n",
    "SELECT * FROM patients LIMIT 5;"
   ]
  },
  {
   "cell_type": "code",
   "execution_count": 7,
   "id": "b3560d60",
   "metadata": {
    "execution": {
     "iopub.execute_input": "2025-03-11T23:05:07.526100Z",
     "iopub.status.busy": "2025-03-11T23:05:07.526020Z",
     "iopub.status.idle": "2025-03-11T23:05:07.531278Z",
     "shell.execute_reply": "2025-03-11T23:05:07.531028Z"
    },
    "papermill": {
     "duration": 0.007004,
     "end_time": "2025-03-11T23:05:07.531903",
     "exception": false,
     "start_time": "2025-03-11T23:05:07.524899",
     "status": "completed"
    },
    "tags": []
   },
   "outputs": [
    {
     "data": {
      "text/html": [
       "<span style=\"None\">Running query in &#x27;sqlite:////Users/silviaorozco/Documents/repos/PharmaSUG-DevOps-for-Pharma/sample.sqlite&#x27;</span>"
      ],
      "text/plain": [
       "Running query in 'sqlite:////Users/silviaorozco/Documents/repos/PharmaSUG-DevOps-for-Pharma/sample.sqlite'"
      ]
     },
     "metadata": {},
     "output_type": "display_data"
    },
    {
     "data": {
      "text/html": [
       "<span style=\"None\">Skipping execution...</span>"
      ],
      "text/plain": [
       "Skipping execution..."
      ]
     },
     "metadata": {},
     "output_type": "display_data"
    }
   ],
   "source": [
    "%%sql --save filter_by_date_cte --no-execute \n",
    "SELECT * FROM patients WHERE HOSPITAL_DATE BETWEEN '{{STUDY_START_DATE }}'AND '{{STUDY_END_DATE}}';"
   ]
  },
  {
   "cell_type": "code",
   "execution_count": 8,
   "id": "bb0996b4",
   "metadata": {
    "execution": {
     "iopub.execute_input": "2025-03-11T23:05:07.534126Z",
     "iopub.status.busy": "2025-03-11T23:05:07.534034Z",
     "iopub.status.idle": "2025-03-11T23:05:07.544611Z",
     "shell.execute_reply": "2025-03-11T23:05:07.544381Z"
    },
    "papermill": {
     "duration": 0.012384,
     "end_time": "2025-03-11T23:05:07.545244",
     "exception": false,
     "start_time": "2025-03-11T23:05:07.532860",
     "status": "completed"
    },
    "tags": []
   },
   "outputs": [
    {
     "data": {
      "text/html": [
       "<span style=\"None\">Generating CTE with stored snippets: &#x27;filter_by_date_cte&#x27;</span>"
      ],
      "text/plain": [
       "Generating CTE with stored snippets: 'filter_by_date_cte'"
      ]
     },
     "metadata": {},
     "output_type": "display_data"
    },
    {
     "data": {
      "text/html": [
       "<span style=\"None\">Running query in &#x27;sqlite:////Users/silviaorozco/Documents/repos/PharmaSUG-DevOps-for-Pharma/sample.sqlite&#x27;</span>"
      ],
      "text/plain": [
       "Running query in 'sqlite:////Users/silviaorozco/Documents/repos/PharmaSUG-DevOps-for-Pharma/sample.sqlite'"
      ]
     },
     "metadata": {},
     "output_type": "display_data"
    },
    {
     "data": {
      "text/html": [
       "<table>\n",
       "    <thead>\n",
       "        <tr>\n",
       "            <th>PATIENT_ID</th>\n",
       "            <th>AGE</th>\n",
       "            <th>HOSPITAL_DATE</th>\n",
       "            <th>HOSPITALIZATION_COUNT</th>\n",
       "            <th>IS_SMOKER</th>\n",
       "        </tr>\n",
       "    </thead>\n",
       "    <tbody>\n",
       "        <tr>\n",
       "            <td>1000</td>\n",
       "            <td>87</td>\n",
       "            <td>2024-11-22</td>\n",
       "            <td>9</td>\n",
       "            <td>0</td>\n",
       "        </tr>\n",
       "        <tr>\n",
       "            <td>1006</td>\n",
       "            <td>45</td>\n",
       "            <td>2024-12-03</td>\n",
       "            <td>1</td>\n",
       "            <td>1</td>\n",
       "        </tr>\n",
       "        <tr>\n",
       "            <td>1007</td>\n",
       "            <td>76</td>\n",
       "            <td>2024-08-10</td>\n",
       "            <td>8</td>\n",
       "            <td>1</td>\n",
       "        </tr>\n",
       "        <tr>\n",
       "            <td>1009</td>\n",
       "            <td>89</td>\n",
       "            <td>2024-12-15</td>\n",
       "            <td>3</td>\n",
       "            <td>1</td>\n",
       "        </tr>\n",
       "        <tr>\n",
       "            <td>1014</td>\n",
       "            <td>15</td>\n",
       "            <td>2024-01-23</td>\n",
       "            <td>10</td>\n",
       "            <td>0</td>\n",
       "        </tr>\n",
       "        <tr>\n",
       "            <td>1015</td>\n",
       "            <td>78</td>\n",
       "            <td>2024-02-14</td>\n",
       "            <td>7</td>\n",
       "            <td>1</td>\n",
       "        </tr>\n",
       "        <tr>\n",
       "            <td>1016</td>\n",
       "            <td>33</td>\n",
       "            <td>2024-10-04</td>\n",
       "            <td>9</td>\n",
       "            <td>1</td>\n",
       "        </tr>\n",
       "        <tr>\n",
       "            <td>1023</td>\n",
       "            <td>67</td>\n",
       "            <td>2024-02-16</td>\n",
       "            <td>8</td>\n",
       "            <td>1</td>\n",
       "        </tr>\n",
       "        <tr>\n",
       "            <td>1025</td>\n",
       "            <td>13</td>\n",
       "            <td>2024-07-24</td>\n",
       "            <td>10</td>\n",
       "            <td>1</td>\n",
       "        </tr>\n",
       "        <tr>\n",
       "            <td>1033</td>\n",
       "            <td>69</td>\n",
       "            <td>2024-12-16</td>\n",
       "            <td>8</td>\n",
       "            <td>0</td>\n",
       "        </tr>\n",
       "    </tbody>\n",
       "</table>\n",
       "<span style=\"font-style:italic;text-align:center;\">Truncated to <a href=\"https://jupysql.ploomber.io/en/latest/api/configuration.html#displaylimit\">displaylimit</a> of 10.</span>"
      ],
      "text/plain": [
       "+------------+-----+---------------+-----------------------+-----------+\n",
       "| PATIENT_ID | AGE | HOSPITAL_DATE | HOSPITALIZATION_COUNT | IS_SMOKER |\n",
       "+------------+-----+---------------+-----------------------+-----------+\n",
       "|    1000    |  87 |   2024-11-22  |           9           |     0     |\n",
       "|    1006    |  45 |   2024-12-03  |           1           |     1     |\n",
       "|    1007    |  76 |   2024-08-10  |           8           |     1     |\n",
       "|    1009    |  89 |   2024-12-15  |           3           |     1     |\n",
       "|    1014    |  15 |   2024-01-23  |           10          |     0     |\n",
       "|    1015    |  78 |   2024-02-14  |           7           |     1     |\n",
       "|    1016    |  33 |   2024-10-04  |           9           |     1     |\n",
       "|    1023    |  67 |   2024-02-16  |           8           |     1     |\n",
       "|    1025    |  13 |   2024-07-24  |           10          |     1     |\n",
       "|    1033    |  69 |   2024-12-16  |           8           |     0     |\n",
       "+------------+-----+---------------+-----------------------+-----------+\n",
       "Truncated to displaylimit of 10."
      ]
     },
     "execution_count": 8,
     "metadata": {},
     "output_type": "execute_result"
    }
   ],
   "source": [
    "%sql SELECT * FROM filter_by_date_cte;"
   ]
  }
 ],
 "metadata": {
  "kernelspec": {
   "display_name": ".venv",
   "language": "python",
   "name": "python3"
  },
  "language_info": {
   "codemirror_mode": {
    "name": "ipython",
    "version": 3
   },
   "file_extension": ".py",
   "mimetype": "text/x-python",
   "name": "python",
   "nbconvert_exporter": "python",
   "pygments_lexer": "ipython3",
   "version": "3.12.8"
  },
  "papermill": {
   "default_parameters": {},
   "duration": 2.537948,
   "end_time": "2025-03-11T23:05:08.645257",
   "environment_variables": {},
   "exception": null,
   "input_path": "/var/folders/bp/0vczk7614mvglnj95t3nyl9w0000gn/T/tmpj08y53h0/01_inclusion.ipynb",
   "output_path": "/Users/silviaorozco/Documents/repos/PharmaSUG-DevOps-for-Pharma/output/notebooks/01_inclusion.ipynb",
   "parameters": {
    "STUDY_END_DATE": "2024-12-31",
    "STUDY_START_DATE": "2024-01-01"
   },
   "start_time": "2025-03-11T23:05:06.107309",
   "version": "2.6.0"
  }
 },
 "nbformat": 4,
 "nbformat_minor": 5
}