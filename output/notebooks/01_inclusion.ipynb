{
 "cells": [
  {
   "cell_type": "code",
   "execution_count": 1,
   "id": "75699d9c",
   "metadata": {
    "execution": {
     "iopub.execute_input": "2025-05-19T22:31:54.019190Z",
     "iopub.status.busy": "2025-05-19T22:31:54.016990Z",
     "iopub.status.idle": "2025-05-19T22:31:54.515955Z",
     "shell.execute_reply": "2025-05-19T22:31:54.514621Z"
    },
    "papermill": {
     "duration": 0.519452,
     "end_time": "2025-05-19T22:31:54.523926",
     "exception": false,
     "start_time": "2025-05-19T22:31:54.004474",
     "status": "completed"
    },
    "tags": []
   },
   "outputs": [],
   "source": [
    "from notebooks.helpers.config import STUDY_START_DATE, STUDY_END_DATE\n",
    "from notebooks.helpers.db import get_engine"
   ]
  },
  {
   "cell_type": "code",
   "execution_count": 2,
   "id": "e51f0f2a",
   "metadata": {
    "execution": {
     "iopub.execute_input": "2025-05-19T22:31:54.551448Z",
     "iopub.status.busy": "2025-05-19T22:31:54.550327Z",
     "iopub.status.idle": "2025-05-19T22:31:54.596760Z",
     "shell.execute_reply": "2025-05-19T22:31:54.594911Z"
    },
    "papermill": {
     "duration": 0.06467,
     "end_time": "2025-05-19T22:31:54.602465",
     "exception": false,
     "start_time": "2025-05-19T22:31:54.537795",
     "status": "completed"
    },
    "tags": []
   },
   "outputs": [],
   "source": [
    "engine = get_engine()"
   ]
  },
  {
   "cell_type": "code",
   "execution_count": 3,
   "id": "ce352a4b",
   "metadata": {
    "execution": {
     "iopub.execute_input": "2025-05-19T22:31:54.629784Z",
     "iopub.status.busy": "2025-05-19T22:31:54.626803Z",
     "iopub.status.idle": "2025-05-19T22:31:57.027860Z",
     "shell.execute_reply": "2025-05-19T22:31:57.025741Z"
    },
    "papermill": {
     "duration": 2.423384,
     "end_time": "2025-05-19T22:31:57.033156",
     "exception": false,
     "start_time": "2025-05-19T22:31:54.609772",
     "status": "completed"
    },
    "tags": []
   },
   "outputs": [
    {
     "name": "stdout",
     "output_type": "stream",
     "text": [
      "There's a new jupysql version available (0.11.1), you're running 0.10.12. To upgrade: pip install jupysql --upgrade\n",
      "Deploy FastAPI apps for free on Ploomber Cloud! Learn more: https://ploomber.io/s/signup\n"
     ]
    },
    {
     "data": {
      "text/html": [
       "<span style=\"None\">The &#x27;toml&#x27; package isn&#x27;t installed. To load settings from pyproject.toml or ~/.jupysql/config, install with: pip install toml</span>"
      ],
      "text/plain": [
       "The 'toml' package isn't installed. To load settings from pyproject.toml or ~/.jupysql/config, install with: pip install toml"
      ]
     },
     "metadata": {},
     "output_type": "display_data"
    }
   ],
   "source": [
    "%load_ext sql\n",
    "%sql engine"
   ]
  },
  {
   "cell_type": "code",
   "execution_count": 4,
   "id": "d6b985c4",
   "metadata": {
    "execution": {
     "iopub.execute_input": "2025-05-19T22:31:57.063789Z",
     "iopub.status.busy": "2025-05-19T22:31:57.062261Z",
     "iopub.status.idle": "2025-05-19T22:31:57.072171Z",
     "shell.execute_reply": "2025-05-19T22:31:57.070764Z"
    },
    "papermill": {
     "duration": 0.029328,
     "end_time": "2025-05-19T22:31:57.075612",
     "exception": false,
     "start_time": "2025-05-19T22:31:57.046284",
     "status": "completed"
    },
    "tags": [
     "parameters"
    ]
   },
   "outputs": [],
   "source": [
    "# Using dates defined in the config\n",
    "STUDY_START_DATE = STUDY_START_DATE\n",
    "STUDY_END_DATE = STUDY_END_DATE"
   ]
  },
  {
   "cell_type": "code",
   "execution_count": 5,
   "id": "33680787",
   "metadata": {
    "execution": {
     "iopub.execute_input": "2025-05-19T22:31:57.094241Z",
     "iopub.status.busy": "2025-05-19T22:31:57.092940Z",
     "iopub.status.idle": "2025-05-19T22:31:57.103502Z",
     "shell.execute_reply": "2025-05-19T22:31:57.101439Z"
    },
    "papermill": {
     "duration": 0.023442,
     "end_time": "2025-05-19T22:31:57.106828",
     "exception": false,
     "start_time": "2025-05-19T22:31:57.083386",
     "status": "completed"
    },
    "tags": [
     "injected-parameters"
    ]
   },
   "outputs": [],
   "source": [
    "# Parameters\n",
    "STUDY_START_DATE = \"2024-01-01\"\n",
    "STUDY_END_DATE = \"2024-12-31\"\n"
   ]
  },
  {
   "cell_type": "code",
   "execution_count": 6,
   "id": "363f29a2",
   "metadata": {
    "execution": {
     "iopub.execute_input": "2025-05-19T22:31:57.128283Z",
     "iopub.status.busy": "2025-05-19T22:31:57.127150Z",
     "iopub.status.idle": "2025-05-19T22:31:57.237737Z",
     "shell.execute_reply": "2025-05-19T22:31:57.236058Z"
    },
    "papermill": {
     "duration": 0.126289,
     "end_time": "2025-05-19T22:31:57.242135",
     "exception": false,
     "start_time": "2025-05-19T22:31:57.115846",
     "status": "completed"
    },
    "tags": []
   },
   "outputs": [
    {
     "data": {
      "text/html": [
       "<span style=\"None\">Running query in &#x27;sqlite:////home/jovyan/workspace/sample.sqlite&#x27;</span>"
      ],
      "text/plain": [
       "Running query in 'sqlite:////home/jovyan/workspace/sample.sqlite'"
      ]
     },
     "metadata": {},
     "output_type": "display_data"
    },
    {
     "data": {
      "text/html": [
       "<table>\n",
       "    <thead>\n",
       "        <tr>\n",
       "            <th>PATIENT_ID</th>\n",
       "            <th>AGE</th>\n",
       "            <th>GENDER</th>\n",
       "            <th>RACE</th>\n",
       "            <th>ETHNICITY</th>\n",
       "            <th>HOSPITAL_DATE</th>\n",
       "            <th>HOSPITALIZATION_COUNT</th>\n",
       "            <th>IS_SMOKER</th>\n",
       "        </tr>\n",
       "    </thead>\n",
       "    <tbody>\n",
       "        <tr>\n",
       "            <td>1000</td>\n",
       "            <td>31</td>\n",
       "            <td>M</td>\n",
       "            <td>White</td>\n",
       "            <td>Non-Hispanic</td>\n",
       "            <td>2022-01-23</td>\n",
       "            <td>2</td>\n",
       "            <td>1</td>\n",
       "        </tr>\n",
       "        <tr>\n",
       "            <td>1001</td>\n",
       "            <td>13</td>\n",
       "            <td>F</td>\n",
       "            <td>White</td>\n",
       "            <td>Hispanic</td>\n",
       "            <td>2022-07-28</td>\n",
       "            <td>3</td>\n",
       "            <td>1</td>\n",
       "        </tr>\n",
       "        <tr>\n",
       "            <td>1002</td>\n",
       "            <td>28</td>\n",
       "            <td>F</td>\n",
       "            <td>White</td>\n",
       "            <td>Non-Hispanic</td>\n",
       "            <td>2022-10-21</td>\n",
       "            <td>7</td>\n",
       "            <td>0</td>\n",
       "        </tr>\n",
       "        <tr>\n",
       "            <td>1003</td>\n",
       "            <td>88</td>\n",
       "            <td>M</td>\n",
       "            <td>Black</td>\n",
       "            <td>Hispanic</td>\n",
       "            <td>2024-10-13</td>\n",
       "            <td>10</td>\n",
       "            <td>0</td>\n",
       "        </tr>\n",
       "        <tr>\n",
       "            <td>1004</td>\n",
       "            <td>45</td>\n",
       "            <td>M</td>\n",
       "            <td>Other</td>\n",
       "            <td>Hispanic</td>\n",
       "            <td>2023-08-23</td>\n",
       "            <td>10</td>\n",
       "            <td>0</td>\n",
       "        </tr>\n",
       "    </tbody>\n",
       "</table>"
      ],
      "text/plain": [
       "+------------+-----+--------+-------+--------------+---------------+-----------------------+-----------+\n",
       "| PATIENT_ID | AGE | GENDER |  RACE |  ETHNICITY   | HOSPITAL_DATE | HOSPITALIZATION_COUNT | IS_SMOKER |\n",
       "+------------+-----+--------+-------+--------------+---------------+-----------------------+-----------+\n",
       "|    1000    |  31 |   M    | White | Non-Hispanic |   2022-01-23  |           2           |     1     |\n",
       "|    1001    |  13 |   F    | White |   Hispanic   |   2022-07-28  |           3           |     1     |\n",
       "|    1002    |  28 |   F    | White | Non-Hispanic |   2022-10-21  |           7           |     0     |\n",
       "|    1003    |  88 |   M    | Black |   Hispanic   |   2024-10-13  |           10          |     0     |\n",
       "|    1004    |  45 |   M    | Other |   Hispanic   |   2023-08-23  |           10          |     0     |\n",
       "+------------+-----+--------+-------+--------------+---------------+-----------------------+-----------+"
      ]
     },
     "execution_count": 6,
     "metadata": {},
     "output_type": "execute_result"
    }
   ],
   "source": [
    "%%sql \n",
    "SELECT * FROM patients LIMIT 5;"
   ]
  },
  {
   "cell_type": "code",
   "execution_count": 7,
   "id": "01a97b6c",
   "metadata": {
    "execution": {
     "iopub.execute_input": "2025-05-19T22:31:57.276216Z",
     "iopub.status.busy": "2025-05-19T22:31:57.273812Z",
     "iopub.status.idle": "2025-05-19T22:31:57.337991Z",
     "shell.execute_reply": "2025-05-19T22:31:57.336631Z"
    },
    "papermill": {
     "duration": 0.086363,
     "end_time": "2025-05-19T22:31:57.340962",
     "exception": false,
     "start_time": "2025-05-19T22:31:57.254599",
     "status": "completed"
    },
    "tags": []
   },
   "outputs": [
    {
     "data": {
      "text/html": [
       "<span style=\"None\">Running query in &#x27;sqlite:////home/jovyan/workspace/sample.sqlite&#x27;</span>"
      ],
      "text/plain": [
       "Running query in 'sqlite:////home/jovyan/workspace/sample.sqlite'"
      ]
     },
     "metadata": {},
     "output_type": "display_data"
    },
    {
     "data": {
      "text/html": [
       "<table>\n",
       "    <thead>\n",
       "        <tr>\n",
       "        </tr>\n",
       "    </thead>\n",
       "    <tbody>\n",
       "    </tbody>\n",
       "</table>"
      ],
      "text/plain": [
       "++\n",
       "||\n",
       "++\n",
       "++"
      ]
     },
     "execution_count": 7,
     "metadata": {},
     "output_type": "execute_result"
    }
   ],
   "source": [
    "%%sql\n",
    "DROP TABLE IF EXISTS filtered_patients;\n",
    "CREATE TABLE filtered_patients AS\n",
    "SELECT * FROM patients WHERE HOSPITAL_DATE BETWEEN '{{STUDY_START_DATE}}' AND '{{STUDY_END_DATE}}';"
   ]
  },
  {
   "cell_type": "code",
   "execution_count": 8,
   "id": "5b337d52",
   "metadata": {
    "execution": {
     "iopub.execute_input": "2025-05-19T22:31:57.362956Z",
     "iopub.status.busy": "2025-05-19T22:31:57.361561Z",
     "iopub.status.idle": "2025-05-19T22:31:57.408561Z",
     "shell.execute_reply": "2025-05-19T22:31:57.407467Z"
    },
    "papermill": {
     "duration": 0.061327,
     "end_time": "2025-05-19T22:31:57.411990",
     "exception": false,
     "start_time": "2025-05-19T22:31:57.350663",
     "status": "completed"
    },
    "tags": []
   },
   "outputs": [
    {
     "data": {
      "text/html": [
       "<span style=\"None\">Running query in &#x27;sqlite:////home/jovyan/workspace/sample.sqlite&#x27;</span>"
      ],
      "text/plain": [
       "Running query in 'sqlite:////home/jovyan/workspace/sample.sqlite'"
      ]
     },
     "metadata": {},
     "output_type": "display_data"
    },
    {
     "data": {
      "text/html": [
       "<table>\n",
       "    <thead>\n",
       "        <tr>\n",
       "            <th>PATIENT_ID</th>\n",
       "            <th>AGE</th>\n",
       "            <th>GENDER</th>\n",
       "            <th>RACE</th>\n",
       "            <th>ETHNICITY</th>\n",
       "            <th>HOSPITAL_DATE</th>\n",
       "            <th>HOSPITALIZATION_COUNT</th>\n",
       "            <th>IS_SMOKER</th>\n",
       "        </tr>\n",
       "    </thead>\n",
       "    <tbody>\n",
       "        <tr>\n",
       "            <td>1003</td>\n",
       "            <td>88</td>\n",
       "            <td>M</td>\n",
       "            <td>Black</td>\n",
       "            <td>Hispanic</td>\n",
       "            <td>2024-10-13</td>\n",
       "            <td>10</td>\n",
       "            <td>0</td>\n",
       "        </tr>\n",
       "        <tr>\n",
       "            <td>1005</td>\n",
       "            <td>52</td>\n",
       "            <td>F</td>\n",
       "            <td>Asian</td>\n",
       "            <td>Hispanic</td>\n",
       "            <td>2024-06-09</td>\n",
       "            <td>5</td>\n",
       "            <td>0</td>\n",
       "        </tr>\n",
       "        <tr>\n",
       "            <td>1007</td>\n",
       "            <td>37</td>\n",
       "            <td>M</td>\n",
       "            <td>Other</td>\n",
       "            <td>Hispanic</td>\n",
       "            <td>2024-08-29</td>\n",
       "            <td>10</td>\n",
       "            <td>0</td>\n",
       "        </tr>\n",
       "        <tr>\n",
       "            <td>1008</td>\n",
       "            <td>62</td>\n",
       "            <td>F</td>\n",
       "            <td>White</td>\n",
       "            <td>Non-Hispanic</td>\n",
       "            <td>2024-05-06</td>\n",
       "            <td>6</td>\n",
       "            <td>1</td>\n",
       "        </tr>\n",
       "        <tr>\n",
       "            <td>1010</td>\n",
       "            <td>34</td>\n",
       "            <td>F</td>\n",
       "            <td>Other</td>\n",
       "            <td>Non-Hispanic</td>\n",
       "            <td>2024-12-30</td>\n",
       "            <td>10</td>\n",
       "            <td>0</td>\n",
       "        </tr>\n",
       "        <tr>\n",
       "            <td>1012</td>\n",
       "            <td>26</td>\n",
       "            <td>F</td>\n",
       "            <td>Other</td>\n",
       "            <td>Non-Hispanic</td>\n",
       "            <td>2024-09-03</td>\n",
       "            <td>9</td>\n",
       "            <td>0</td>\n",
       "        </tr>\n",
       "        <tr>\n",
       "            <td>1013</td>\n",
       "            <td>69</td>\n",
       "            <td>F</td>\n",
       "            <td>Asian</td>\n",
       "            <td>Hispanic</td>\n",
       "            <td>2024-02-01</td>\n",
       "            <td>6</td>\n",
       "            <td>0</td>\n",
       "        </tr>\n",
       "        <tr>\n",
       "            <td>1014</td>\n",
       "            <td>32</td>\n",
       "            <td>M</td>\n",
       "            <td>Asian</td>\n",
       "            <td>Non-Hispanic</td>\n",
       "            <td>2024-01-11</td>\n",
       "            <td>4</td>\n",
       "            <td>0</td>\n",
       "        </tr>\n",
       "        <tr>\n",
       "            <td>1015</td>\n",
       "            <td>87</td>\n",
       "            <td>M</td>\n",
       "            <td>Asian</td>\n",
       "            <td>Non-Hispanic</td>\n",
       "            <td>2024-01-12</td>\n",
       "            <td>5</td>\n",
       "            <td>1</td>\n",
       "        </tr>\n",
       "        <tr>\n",
       "            <td>1021</td>\n",
       "            <td>66</td>\n",
       "            <td>M</td>\n",
       "            <td>Asian</td>\n",
       "            <td>Non-Hispanic</td>\n",
       "            <td>2024-12-28</td>\n",
       "            <td>2</td>\n",
       "            <td>1</td>\n",
       "        </tr>\n",
       "    </tbody>\n",
       "</table>\n",
       "<span style=\"font-style:italic;text-align:center;\">Truncated to <a href=\"https://jupysql.ploomber.io/en/latest/api/configuration.html#displaylimit\">displaylimit</a> of 10.</span>"
      ],
      "text/plain": [
       "+------------+-----+--------+-------+--------------+---------------+-----------------------+-----------+\n",
       "| PATIENT_ID | AGE | GENDER |  RACE |  ETHNICITY   | HOSPITAL_DATE | HOSPITALIZATION_COUNT | IS_SMOKER |\n",
       "+------------+-----+--------+-------+--------------+---------------+-----------------------+-----------+\n",
       "|    1003    |  88 |   M    | Black |   Hispanic   |   2024-10-13  |           10          |     0     |\n",
       "|    1005    |  52 |   F    | Asian |   Hispanic   |   2024-06-09  |           5           |     0     |\n",
       "|    1007    |  37 |   M    | Other |   Hispanic   |   2024-08-29  |           10          |     0     |\n",
       "|    1008    |  62 |   F    | White | Non-Hispanic |   2024-05-06  |           6           |     1     |\n",
       "|    1010    |  34 |   F    | Other | Non-Hispanic |   2024-12-30  |           10          |     0     |\n",
       "|    1012    |  26 |   F    | Other | Non-Hispanic |   2024-09-03  |           9           |     0     |\n",
       "|    1013    |  69 |   F    | Asian |   Hispanic   |   2024-02-01  |           6           |     0     |\n",
       "|    1014    |  32 |   M    | Asian | Non-Hispanic |   2024-01-11  |           4           |     0     |\n",
       "|    1015    |  87 |   M    | Asian | Non-Hispanic |   2024-01-12  |           5           |     1     |\n",
       "|    1021    |  66 |   M    | Asian | Non-Hispanic |   2024-12-28  |           2           |     1     |\n",
       "+------------+-----+--------+-------+--------------+---------------+-----------------------+-----------+\n",
       "Truncated to displaylimit of 10."
      ]
     },
     "execution_count": 8,
     "metadata": {},
     "output_type": "execute_result"
    }
   ],
   "source": [
    "%sql SELECT * FROM filtered_patients;"
   ]
  }
 ],
 "metadata": {
  "kernelspec": {
   "display_name": "venv",
   "language": "python",
   "name": "python3"
  },
  "language_info": {
   "codemirror_mode": {
    "name": "ipython",
    "version": 3
   },
   "file_extension": ".py",
   "mimetype": "text/x-python",
   "name": "python",
   "nbconvert_exporter": "python",
   "pygments_lexer": "ipython3",
   "version": "3.12.10"
  },
  "papermill": {
   "default_parameters": {},
   "duration": 6.873333,
   "end_time": "2025-05-19T22:31:58.577716",
   "environment_variables": {},
   "exception": null,
   "input_path": "/tmp/tmpg5va30q6/01_inclusion.ipynb",
   "output_path": "/home/jovyan/workspace/output/notebooks/01_inclusion.ipynb",
   "parameters": {
    "STUDY_END_DATE": "2024-12-31",
    "STUDY_START_DATE": "2024-01-01"
   },
   "start_time": "2025-05-19T22:31:51.704383",
   "version": "2.6.0"
  }
 },
 "nbformat": 4,
 "nbformat_minor": 5
}