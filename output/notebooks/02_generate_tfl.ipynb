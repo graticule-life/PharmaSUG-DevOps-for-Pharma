{
 "cells": [
  {
   "cell_type": "code",
   "execution_count": 1,
   "id": "8453be95",
   "metadata": {
    "execution": {
     "iopub.execute_input": "2025-05-19T22:32:10.777617Z",
     "iopub.status.busy": "2025-05-19T22:32:10.763787Z",
     "iopub.status.idle": "2025-05-19T22:32:11.154934Z",
     "shell.execute_reply": "2025-05-19T22:32:11.149066Z"
    },
    "papermill": {
     "duration": 0.42359,
     "end_time": "2025-05-19T22:32:11.163729",
     "exception": false,
     "start_time": "2025-05-19T22:32:10.740139",
     "status": "completed"
    },
    "tags": [
     "injected-parameters"
    ]
   },
   "outputs": [],
   "source": [
    "# Parameters\n",
    "STUDY_START_DATE = \"2024-01-01\"\n",
    "STUDY_END_DATE = \"2024-12-31\"\n"
   ]
  },
  {
   "cell_type": "raw",
   "id": "19e8f530",
   "metadata": {
    "papermill": {
     "duration": 0.013303,
     "end_time": "2025-05-19T22:32:11.189840",
     "exception": false,
     "start_time": "2025-05-19T22:32:11.176537",
     "status": "completed"
    },
    "tags": []
   },
   "source": [
    "---\n",
    "title: \"02_generate_tfl.Rmd\"\n",
    "output: html_document\n",
    "---"
   ]
  },
  {
   "cell_type": "markdown",
   "id": "9f41c8b0",
   "metadata": {
    "lines_to_next_cell": 0,
    "papermill": {
     "duration": 0.007492,
     "end_time": "2025-05-19T22:32:11.209079",
     "exception": false,
     "start_time": "2025-05-19T22:32:11.201587",
     "status": "completed"
    },
    "tags": []
   },
   "source": [
    "Load in necessary libraries "
   ]
  },
  {
   "cell_type": "code",
   "execution_count": 2,
   "id": "f336db61",
   "metadata": {
    "execution": {
     "iopub.execute_input": "2025-05-19T22:32:11.339583Z",
     "iopub.status.busy": "2025-05-19T22:32:11.230269Z",
     "iopub.status.idle": "2025-05-19T22:32:17.115291Z",
     "shell.execute_reply": "2025-05-19T22:32:17.110672Z"
    },
    "papermill": {
     "duration": 5.903981,
     "end_time": "2025-05-19T22:32:17.121281",
     "exception": false,
     "start_time": "2025-05-19T22:32:11.217300",
     "status": "completed"
    },
    "tags": []
   },
   "outputs": [
    {
     "name": "stderr",
     "output_type": "stream",
     "text": [
      "here() starts at /home/jovyan/workspace\n",
      "\n"
     ]
    },
    {
     "name": "stderr",
     "output_type": "stream",
     "text": [
      "\n",
      "Attaching package: ‘flextable’\n",
      "\n",
      "\n"
     ]
    },
    {
     "name": "stderr",
     "output_type": "stream",
     "text": [
      "The following object is masked from ‘package:gtsummary’:\n",
      "\n",
      "    continuous_summary\n",
      "\n",
      "\n"
     ]
    }
   ],
   "source": [
    "\n",
    "library(DBI)\n",
    "library(RSQLite)\n",
    "library(gtsummary)\n",
    "library(here)\n",
    "library(reticulate)\n",
    "library(officer)\n",
    "library(flextable)\n"
   ]
  },
  {
   "cell_type": "markdown",
   "id": "ff891e73",
   "metadata": {
    "lines_to_next_cell": 0,
    "papermill": {
     "duration": 0.011795,
     "end_time": "2025-05-19T22:32:17.149494",
     "exception": false,
     "start_time": "2025-05-19T22:32:17.137699",
     "status": "completed"
    },
    "tags": []
   },
   "source": [
    "In order to load in the config file, which has the file paths listed for artifact (tables listings and figures) output, we need to setup a python virtual environment \n",
    "\n",
    "In the terminal run (only need to run once when setting up R session):\n",
    "`uv venv -p 3.11` \n",
    "\n",
    "In the R console (only need to run once when setting up R session)\n",
    "`reticulate::use_virtualenv(\"./.venv\")`\n",
    "\n",
    "Continue setting up reticulate and load in config variables "
   ]
  },
  {
   "cell_type": "code",
   "execution_count": 3,
   "id": "49e2ffea",
   "metadata": {
    "execution": {
     "iopub.execute_input": "2025-05-19T22:32:17.182543Z",
     "iopub.status.busy": "2025-05-19T22:32:17.176116Z",
     "iopub.status.idle": "2025-05-19T22:32:31.633104Z",
     "shell.execute_reply": "2025-05-19T22:32:31.624426Z"
    },
    "papermill": {
     "duration": 14.480004,
     "end_time": "2025-05-19T22:32:31.640907",
     "exception": false,
     "start_time": "2025-05-19T22:32:17.160903",
     "status": "completed"
    },
    "tags": []
   },
   "outputs": [
    {
     "name": "stderr",
     "output_type": "stream",
     "text": [
      "Warning message in poetry_config(required_module):\n",
      "“This project appears to use Poetry for Python dependency management.\n",
      "However, the 'poetry' command line tool is not available.\n",
      "reticulate will be unable to activate this project.\n",
      "Please ensure that 'poetry' is available on the PATH.”\n"
     ]
    },
    {
     "name": "stdout",
     "output_type": "stream",
     "text": [
      "Error in python_config_impl(python) : \n",
      "  Error running '/home/jovyan/workspace/venv/bin/python': No such file.\n",
      "The Python installation used to create the virtualenv has been moved or removed:\n",
      "  '/opt/homebrew/Cellar/python@3.12/3.12.8/Frameworks/Python.framework/Versions/3.12/bin'\n"
     ]
    }
   ],
   "source": [
    "\n",
    "config = import_from_path(module = \"config\", path = here(\"source\", \"notebooks\", \"helpers\"))\n",
    "output_file_path = config$OUTPUT_ARTIFACT_PATH\n"
   ]
  },
  {
   "cell_type": "markdown",
   "id": "a9198530",
   "metadata": {
    "lines_to_next_cell": 0,
    "papermill": {
     "duration": 0.01931,
     "end_time": "2025-05-19T22:32:31.681988",
     "exception": false,
     "start_time": "2025-05-19T22:32:31.662678",
     "status": "completed"
    },
    "tags": []
   },
   "source": [
    "Load in data from python step "
   ]
  },
  {
   "cell_type": "code",
   "execution_count": 4,
   "id": "decebdeb",
   "metadata": {
    "execution": {
     "iopub.execute_input": "2025-05-19T22:32:31.742940Z",
     "iopub.status.busy": "2025-05-19T22:32:31.736605Z",
     "iopub.status.idle": "2025-05-19T22:32:32.140924Z",
     "shell.execute_reply": "2025-05-19T22:32:32.127920Z"
    },
    "papermill": {
     "duration": 0.45342,
     "end_time": "2025-05-19T22:32:32.158171",
     "exception": false,
     "start_time": "2025-05-19T22:32:31.704751",
     "status": "completed"
    },
    "tags": []
   },
   "outputs": [],
   "source": [
    "\n",
    "conn = dbConnect(RSQLite::SQLite(), \"sample.sqlite\")\n",
    "\n",
    "patients = dbGetQuery(conn, \"SELECT * FROM filtered_patients\")\n"
   ]
  },
  {
   "cell_type": "markdown",
   "id": "752b855c",
   "metadata": {
    "lines_to_next_cell": 0,
    "papermill": {
     "duration": 0.011188,
     "end_time": "2025-05-19T22:32:32.188283",
     "exception": false,
     "start_time": "2025-05-19T22:32:32.177095",
     "status": "completed"
    },
    "tags": []
   },
   "source": [
    "Create output table using tbl_summary "
   ]
  },
  {
   "cell_type": "code",
   "execution_count": 5,
   "id": "064768ab",
   "metadata": {
    "execution": {
     "iopub.execute_input": "2025-05-19T22:32:32.223171Z",
     "iopub.status.busy": "2025-05-19T22:32:32.216480Z",
     "iopub.status.idle": "2025-05-19T22:32:38.153632Z",
     "shell.execute_reply": "2025-05-19T22:32:38.142702Z"
    },
    "papermill": {
     "duration": 5.977519,
     "end_time": "2025-05-19T22:32:38.175404",
     "exception": false,
     "start_time": "2025-05-19T22:32:32.197885",
     "status": "completed"
    },
    "tags": []
   },
   "outputs": [],
   "source": [
    "output_table = patients |>\n",
    "  select(AGE, GENDER, RACE, ETHNICITY, IS_SMOKER, HOSPITALIZATION_COUNT) |>\n",
    "  tbl_summary() |>\n",
    "  #convert to flex table for officer output \n",
    "  as_flex_table()\n"
   ]
  },
  {
   "cell_type": "markdown",
   "id": "79be5255",
   "metadata": {
    "lines_to_next_cell": 0,
    "papermill": {
     "duration": 0.011581,
     "end_time": "2025-05-19T22:32:38.208457",
     "exception": false,
     "start_time": "2025-05-19T22:32:38.196876",
     "status": "completed"
    },
    "tags": []
   },
   "source": [
    "Use officer to create output word file "
   ]
  },
  {
   "cell_type": "code",
   "execution_count": 6,
   "id": "a0440e02",
   "metadata": {
    "execution": {
     "iopub.execute_input": "2025-05-19T22:32:38.296000Z",
     "iopub.status.busy": "2025-05-19T22:32:38.277455Z",
     "iopub.status.idle": "2025-05-19T22:32:39.419331Z",
     "shell.execute_reply": "2025-05-19T22:32:39.409631Z"
    },
    "papermill": {
     "duration": 1.19255,
     "end_time": "2025-05-19T22:32:39.445510",
     "exception": false,
     "start_time": "2025-05-19T22:32:38.252960",
     "status": "completed"
    },
    "tags": []
   },
   "outputs": [],
   "source": [
    "\n",
    "output_title = 'Table 1. Patient characteristics'\n",
    "\n",
    "output_doc = read_docx() |>\n",
    "  body_add(output_title) |>\n",
    "  body_add_flextable(output_table) \n",
    "\n",
    "print(output_doc, file.path(output_file_path, 'patient_characteristics_tables.docx'))\n"
   ]
  }
 ],
 "metadata": {
  "jupytext": {
   "cell_metadata_filter": "-all",
   "main_language": "R",
   "notebook_metadata_filter": "-all",
   "text_representation": {
    "extension": ".Rmd",
    "format_name": "rmarkdown"
   }
  },
  "language_info": {
   "codemirror_mode": "r",
   "file_extension": ".r",
   "mimetype": "text/x-r-source",
   "name": "R",
   "pygments_lexer": "r",
   "version": "4.4.2"
  },
  "papermill": {
   "default_parameters": {},
   "duration": 38.891057,
   "end_time": "2025-05-19T22:32:39.874396",
   "environment_variables": {},
   "exception": null,
   "input_path": "/tmp/tmpit7founu/02_generate_tfl.ipynb",
   "output_path": "/home/jovyan/workspace/output/notebooks/02_generate_tfl.ipynb",
   "parameters": {
    "STUDY_END_DATE": "2024-12-31",
    "STUDY_START_DATE": "2024-01-01"
   },
   "start_time": "2025-05-19T22:32:00.983339",
   "version": "2.6.0"
  }
 },
 "nbformat": 4,
 "nbformat_minor": 5
}