{
 "cells": [
  {
   "cell_type": "markdown",
   "id": "213e0cbf",
   "metadata": {
    "papermill": {
     "duration": 0.043785,
     "end_time": "2025-03-12T18:39:26.693818",
     "exception": false,
     "start_time": "2025-03-12T18:39:26.650033",
     "status": "completed"
    },
    "tags": []
   },
   "source": [
    "## Setup"
   ]
  },
  {
   "cell_type": "code",
   "execution_count": 1,
   "id": "e94553c1",
   "metadata": {
    "execution": {
     "iopub.execute_input": "2025-03-12T18:39:26.739857Z",
     "iopub.status.busy": "2025-03-12T18:39:26.738650Z",
     "iopub.status.idle": "2025-03-12T18:39:33.319233Z",
     "shell.execute_reply": "2025-03-12T18:39:33.316934Z"
    },
    "papermill": {
     "duration": 6.617275,
     "end_time": "2025-03-12T18:39:33.339151",
     "exception": false,
     "start_time": "2025-03-12T18:39:26.721876",
     "status": "completed"
    },
    "tags": []
   },
   "outputs": [],
   "source": [
    "from notebooks.helpers.config import (\n",
    "    OUTPUT_NB_PATH,\n",
    "    STUDY_END_DATE,\n",
    "    STUDY_START_DATE,\n",
    ")\n",
    "from notebooks.helpers.jupytext_converter import convert_file_and_run_ipynb"
   ]
  },
  {
   "cell_type": "markdown",
   "id": "05264c6e",
   "metadata": {
    "papermill": {
     "duration": 0.005848,
     "end_time": "2025-03-12T18:39:33.355306",
     "exception": false,
     "start_time": "2025-03-12T18:39:33.349458",
     "status": "completed"
    },
    "tags": []
   },
   "source": [
    "Check if the output directory exists and create it if it doesn't"
   ]
  },
  {
   "cell_type": "code",
   "execution_count": 2,
   "id": "500ac5eb",
   "metadata": {
    "execution": {
     "iopub.execute_input": "2025-03-12T18:39:33.371555Z",
     "iopub.status.busy": "2025-03-12T18:39:33.369923Z",
     "iopub.status.idle": "2025-03-12T18:39:33.384285Z",
     "shell.execute_reply": "2025-03-12T18:39:33.382718Z"
    },
    "papermill": {
     "duration": 0.026566,
     "end_time": "2025-03-12T18:39:33.387451",
     "exception": false,
     "start_time": "2025-03-12T18:39:33.360885",
     "status": "completed"
    },
    "tags": []
   },
   "outputs": [],
   "source": [
    "OUTPUT_NB_PATH.mkdir(parents=True, exist_ok=True)"
   ]
  },
  {
   "cell_type": "markdown",
   "id": "1f1f0dbd",
   "metadata": {
    "papermill": {
     "duration": 0.005544,
     "end_time": "2025-03-12T18:39:33.399318",
     "exception": false,
     "start_time": "2025-03-12T18:39:33.393774",
     "status": "completed"
    },
    "tags": []
   },
   "source": [
    "## Set up notebooks for papermill execution\n",
    "\n",
    "<br>\n",
    "\n",
    "### Run Python notebooks"
   ]
  },
  {
   "cell_type": "code",
   "execution_count": 3,
   "id": "37221dd2",
   "metadata": {
    "execution": {
     "iopub.execute_input": "2025-03-12T18:39:33.419776Z",
     "iopub.status.busy": "2025-03-12T18:39:33.418299Z",
     "iopub.status.idle": "2025-03-12T18:39:33.435228Z",
     "shell.execute_reply": "2025-03-12T18:39:33.432011Z"
    },
    "papermill": {
     "duration": 0.03198,
     "end_time": "2025-03-12T18:39:33.438657",
     "exception": false,
     "start_time": "2025-03-12T18:39:33.406677",
     "status": "completed"
    },
    "tags": []
   },
   "outputs": [],
   "source": [
    "py_parameters = {\n",
    "    \"STUDY_START_DATE\": STUDY_START_DATE,\n",
    "    \"STUDY_END_DATE\": STUDY_END_DATE,\n",
    "}\n",
    "\n",
    "py_notebooks = [\n",
    "    \"01_inclusion.ipynb\"\n",
    "]"
   ]
  },
  {
   "cell_type": "code",
   "execution_count": 4,
   "id": "9a0dac10",
   "metadata": {
    "execution": {
     "iopub.execute_input": "2025-03-12T18:39:33.457279Z",
     "iopub.status.busy": "2025-03-12T18:39:33.456226Z",
     "iopub.status.idle": "2025-03-12T18:39:43.068172Z",
     "shell.execute_reply": "2025-03-12T18:39:43.066487Z"
    },
    "papermill": {
     "duration": 9.628442,
     "end_time": "2025-03-12T18:39:43.073802",
     "exception": false,
     "start_time": "2025-03-12T18:39:33.445360",
     "status": "completed"
    },
    "tags": []
   },
   "outputs": [
    {
     "name": "stdout",
     "output_type": "stream",
     "text": [
      "Executing notebook: 01_inclusion.ipynb\n"
     ]
    },
    {
     "name": "stderr",
     "output_type": "stream",
     "text": [
      "/opt/conda/lib/python3.12/site-packages/tqdm/auto.py:21: TqdmWarning: IProgress not found. Please update jupyter and ipywidgets. See https://ipywidgets.readthedocs.io/en/stable/user_install.html\n",
      "  from .autonotebook import tqdm as notebook_tqdm\n"
     ]
    },
    {
     "name": "stderr",
     "output_type": "stream",
     "text": [
      "\r",
      "Executing:   0%|          | 0/8 [00:00<?, ?cell/s]"
     ]
    },
    {
     "name": "stderr",
     "output_type": "stream",
     "text": [
      "\r",
      "Executing:  12%|█▎        | 1/8 [00:03<00:21,  3.02s/cell]"
     ]
    },
    {
     "name": "stderr",
     "output_type": "stream",
     "text": [
      "\r",
      "Executing:  38%|███▊      | 3/8 [00:05<00:08,  1.77s/cell]"
     ]
    },
    {
     "name": "stderr",
     "output_type": "stream",
     "text": [
      "\r",
      "Executing:  75%|███████▌  | 6/8 [00:05<00:01,  1.38cell/s]"
     ]
    },
    {
     "name": "stderr",
     "output_type": "stream",
     "text": [
      "\r",
      "Executing: 100%|██████████| 8/8 [00:06<00:00,  2.04cell/s]"
     ]
    },
    {
     "name": "stderr",
     "output_type": "stream",
     "text": [
      "\r",
      "Executing: 100%|██████████| 8/8 [00:07<00:00,  1.11cell/s]"
     ]
    },
    {
     "name": "stderr",
     "output_type": "stream",
     "text": [
      "\n"
     ]
    },
    {
     "name": "stdout",
     "output_type": "stream",
     "text": [
      "Saving output to 01_inclusion.html\n"
     ]
    },
    {
     "data": {
      "text/plain": [
       "['/home/jovyan/workspace/output/notebooks/01_inclusion.ipynb']"
      ]
     },
     "execution_count": 4,
     "metadata": {},
     "output_type": "execute_result"
    }
   ],
   "source": [
    "convert_file_and_run_ipynb(\n",
    "    notebooks=py_notebooks,\n",
    "    output_dir=OUTPUT_NB_PATH,\n",
    "    parameters=py_parameters,\n",
    "    language=\"python\",\n",
    ")"
   ]
  }
 ],
 "metadata": {
  "kernelspec": {
   "display_name": "venv",
   "language": "python",
   "name": "python3"
  },
  "language_info": {
   "codemirror_mode": {
    "name": "ipython",
    "version": 3
   },
   "file_extension": ".py",
   "mimetype": "text/x-python",
   "name": "python",
   "nbconvert_exporter": "python",
   "pygments_lexer": "ipython3",
   "version": "3.12.9"
  },
  "papermill": {
   "default_parameters": {},
   "duration": 20.172185,
   "end_time": "2025-03-12T18:39:43.541018",
   "environment_variables": {},
   "exception": null,
   "input_path": "source/papermill.ipynb",
   "output_path": "output/notebooks/papermill.ipynb",
   "parameters": {},
   "start_time": "2025-03-12T18:39:23.368833",
   "version": "2.6.0"
  }
 },
 "nbformat": 4,
 "nbformat_minor": 5
}