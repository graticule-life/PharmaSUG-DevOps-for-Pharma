{
 "cells": [
  {
   "cell_type": "markdown",
   "id": "c83e4cdb",
   "metadata": {
    "papermill": {
     "duration": 0.022855,
     "end_time": "2025-05-19T22:31:46.576638",
     "exception": false,
     "start_time": "2025-05-19T22:31:46.553783",
     "status": "completed"
    },
    "tags": []
   },
   "source": [
    "## Setup"
   ]
  },
  {
   "cell_type": "code",
   "execution_count": 1,
   "id": "ebe1b64e",
   "metadata": {
    "execution": {
     "iopub.execute_input": "2025-05-19T22:31:46.629673Z",
     "iopub.status.busy": "2025-05-19T22:31:46.628046Z",
     "iopub.status.idle": "2025-05-19T22:31:51.239387Z",
     "shell.execute_reply": "2025-05-19T22:31:51.237669Z"
    },
    "papermill": {
     "duration": 4.6536,
     "end_time": "2025-05-19T22:31:51.247137",
     "exception": false,
     "start_time": "2025-05-19T22:31:46.593537",
     "status": "completed"
    },
    "tags": []
   },
   "outputs": [],
   "source": [
    "from notebooks.helpers.config import (\n",
    "    OUTPUT_NB_PATH,\n",
    "    OUTPUT_ARTIFACT_PATH,\n",
    "    STUDY_END_DATE,\n",
    "    STUDY_START_DATE,\n",
    ")\n",
    "from notebooks.helpers.jupytext_converter import convert_file_and_run_ipynb"
   ]
  },
  {
   "cell_type": "markdown",
   "id": "295927f6",
   "metadata": {
    "papermill": {
     "duration": 0.006491,
     "end_time": "2025-05-19T22:31:51.265484",
     "exception": false,
     "start_time": "2025-05-19T22:31:51.258993",
     "status": "completed"
    },
    "tags": []
   },
   "source": [
    "Check if the output directory exists and create it if it doesn't"
   ]
  },
  {
   "cell_type": "code",
   "execution_count": 2,
   "id": "0a49db3d",
   "metadata": {
    "execution": {
     "iopub.execute_input": "2025-05-19T22:31:51.292960Z",
     "iopub.status.busy": "2025-05-19T22:31:51.290733Z",
     "iopub.status.idle": "2025-05-19T22:31:51.312814Z",
     "shell.execute_reply": "2025-05-19T22:31:51.310900Z"
    },
    "papermill": {
     "duration": 0.038999,
     "end_time": "2025-05-19T22:31:51.316623",
     "exception": false,
     "start_time": "2025-05-19T22:31:51.277624",
     "status": "completed"
    },
    "tags": []
   },
   "outputs": [],
   "source": [
    "OUTPUT_NB_PATH.mkdir(parents=True, exist_ok=True)\n",
    "OUTPUT_ARTIFACT_PATH.mkdir(parents=True, exist_ok=True)"
   ]
  },
  {
   "cell_type": "markdown",
   "id": "fb86df41",
   "metadata": {
    "papermill": {
     "duration": 0.006957,
     "end_time": "2025-05-19T22:31:51.331529",
     "exception": false,
     "start_time": "2025-05-19T22:31:51.324572",
     "status": "completed"
    },
    "tags": []
   },
   "source": [
    "## Set up notebooks for papermill execution\n",
    "\n",
    "<br>\n",
    "\n",
    "### Run Python notebooks"
   ]
  },
  {
   "cell_type": "code",
   "execution_count": 3,
   "id": "fe342066",
   "metadata": {
    "execution": {
     "iopub.execute_input": "2025-05-19T22:31:51.356976Z",
     "iopub.status.busy": "2025-05-19T22:31:51.355849Z",
     "iopub.status.idle": "2025-05-19T22:31:51.367961Z",
     "shell.execute_reply": "2025-05-19T22:31:51.365556Z"
    },
    "papermill": {
     "duration": 0.030553,
     "end_time": "2025-05-19T22:31:51.371649",
     "exception": false,
     "start_time": "2025-05-19T22:31:51.341096",
     "status": "completed"
    },
    "tags": []
   },
   "outputs": [],
   "source": [
    "py_parameters = {\n",
    "    \"STUDY_START_DATE\": STUDY_START_DATE,\n",
    "    \"STUDY_END_DATE\": STUDY_END_DATE,\n",
    "}\n",
    "\n",
    "py_notebooks = [\n",
    "    \"01_inclusion.ipynb\"\n",
    "]"
   ]
  },
  {
   "cell_type": "code",
   "execution_count": 4,
   "id": "04a2c1fc",
   "metadata": {
    "execution": {
     "iopub.execute_input": "2025-05-19T22:31:51.394713Z",
     "iopub.status.busy": "2025-05-19T22:31:51.392358Z",
     "iopub.status.idle": "2025-05-19T22:32:00.869994Z",
     "shell.execute_reply": "2025-05-19T22:32:00.867637Z"
    },
    "papermill": {
     "duration": 9.497627,
     "end_time": "2025-05-19T22:32:00.877838",
     "exception": false,
     "start_time": "2025-05-19T22:31:51.380211",
     "status": "completed"
    },
    "tags": []
   },
   "outputs": [
    {
     "name": "stdout",
     "output_type": "stream",
     "text": [
      "Executing notebook: 01_inclusion.ipynb\n"
     ]
    },
    {
     "name": "stderr",
     "output_type": "stream",
     "text": [
      "/opt/conda/lib/python3.12/site-packages/tqdm/auto.py:21: TqdmWarning: IProgress not found. Please update jupyter and ipywidgets. See https://ipywidgets.readthedocs.io/en/stable/user_install.html\n",
      "  from .autonotebook import tqdm as notebook_tqdm\n"
     ]
    },
    {
     "name": "stderr",
     "output_type": "stream",
     "text": [
      "\r",
      "Executing:   0%|                           | 0/8 [00:00<?, ?cell/s]"
     ]
    },
    {
     "name": "stderr",
     "output_type": "stream",
     "text": [
      "\r",
      "Executing:  12%|██▍                | 1/8 [00:02<00:19,  2.83s/cell]"
     ]
    },
    {
     "name": "stderr",
     "output_type": "stream",
     "text": [
      "\r",
      "Executing:  38%|███████▏           | 3/8 [00:05<00:08,  1.66s/cell]"
     ]
    },
    {
     "name": "stderr",
     "output_type": "stream",
     "text": [
      "\r",
      "Executing:  75%|██████████████▎    | 6/8 [00:05<00:01,  1.46cell/s]"
     ]
    },
    {
     "name": "stderr",
     "output_type": "stream",
     "text": [
      "\r",
      "Executing: 100%|███████████████████| 8/8 [00:05<00:00,  2.15cell/s]"
     ]
    },
    {
     "name": "stderr",
     "output_type": "stream",
     "text": [
      "\r",
      "Executing: 100%|███████████████████| 8/8 [00:06<00:00,  1.16cell/s]"
     ]
    },
    {
     "name": "stderr",
     "output_type": "stream",
     "text": [
      "\n"
     ]
    },
    {
     "name": "stdout",
     "output_type": "stream",
     "text": [
      "Saving output to 01_inclusion.html\n"
     ]
    },
    {
     "data": {
      "text/plain": [
       "['/home/jovyan/workspace/output/notebooks/01_inclusion.ipynb']"
      ]
     },
     "execution_count": 4,
     "metadata": {},
     "output_type": "execute_result"
    }
   ],
   "source": [
    "convert_file_and_run_ipynb(\n",
    "    notebooks=py_notebooks,\n",
    "    output_dir=OUTPUT_NB_PATH,\n",
    "    parameters=py_parameters,\n",
    "    language=\"python\",\n",
    ")"
   ]
  },
  {
   "cell_type": "markdown",
   "id": "6cdd28c7",
   "metadata": {
    "papermill": {
     "duration": 0.01206,
     "end_time": "2025-05-19T22:32:00.904067",
     "exception": false,
     "start_time": "2025-05-19T22:32:00.892007",
     "status": "completed"
    },
    "tags": []
   },
   "source": [
    "### Run R notebooks"
   ]
  },
  {
   "cell_type": "code",
   "execution_count": 5,
   "id": "157ad529",
   "metadata": {
    "execution": {
     "iopub.execute_input": "2025-05-19T22:32:00.934376Z",
     "iopub.status.busy": "2025-05-19T22:32:00.933039Z",
     "iopub.status.idle": "2025-05-19T22:32:41.735149Z",
     "shell.execute_reply": "2025-05-19T22:32:41.733064Z"
    },
    "papermill": {
     "duration": 40.825632,
     "end_time": "2025-05-19T22:32:41.741525",
     "exception": false,
     "start_time": "2025-05-19T22:32:00.915893",
     "status": "completed"
    },
    "tags": []
   },
   "outputs": [
    {
     "name": "stderr",
     "output_type": "stream",
     "text": [
      "Passed unknown parameter: STUDY_START_DATE\n"
     ]
    },
    {
     "name": "stderr",
     "output_type": "stream",
     "text": [
      "Passed unknown parameter: STUDY_END_DATE\n"
     ]
    },
    {
     "name": "stderr",
     "output_type": "stream",
     "text": [
      "Input notebook does not contain a cell with tag 'parameters'\n"
     ]
    },
    {
     "name": "stdout",
     "output_type": "stream",
     "text": [
      "Executing notebook: 02_generate_tfl.Rmd\n"
     ]
    },
    {
     "name": "stderr",
     "output_type": "stream",
     "text": [
      "\r",
      "Executing:   0%|                          | 0/12 [00:00<?, ?cell/s]"
     ]
    },
    {
     "name": "stderr",
     "output_type": "stream",
     "text": [
      "\r",
      "Executing:   8%|█▌                | 1/12 [00:10<01:52, 10.19s/cell]"
     ]
    },
    {
     "name": "stderr",
     "output_type": "stream",
     "text": [
      "\r",
      "Executing:  33%|██████            | 4/12 [00:16<00:28,  3.54s/cell]"
     ]
    },
    {
     "name": "stderr",
     "output_type": "stream",
     "text": [
      "\r",
      "Executing:  50%|█████████         | 6/12 [00:30<00:30,  5.16s/cell]"
     ]
    },
    {
     "name": "stderr",
     "output_type": "stream",
     "text": [
      "\r",
      "Executing:  67%|████████████      | 8/12 [00:31<00:13,  3.28s/cell]"
     ]
    },
    {
     "name": "stderr",
     "output_type": "stream",
     "text": [
      "\r",
      "Executing:  83%|██████████████▏  | 10/12 [00:37<00:06,  3.18s/cell]"
     ]
    },
    {
     "name": "stderr",
     "output_type": "stream",
     "text": [
      "\r",
      "Executing: 100%|█████████████████| 12/12 [00:38<00:00,  2.33s/cell]"
     ]
    },
    {
     "name": "stderr",
     "output_type": "stream",
     "text": [
      "\n",
      "Execution halted\n"
     ]
    },
    {
     "name": "stderr",
     "output_type": "stream",
     "text": [
      "\r",
      "Executing: 100%|█████████████████| 12/12 [00:38<00:00,  3.24s/cell]"
     ]
    },
    {
     "name": "stderr",
     "output_type": "stream",
     "text": [
      "\n"
     ]
    },
    {
     "name": "stdout",
     "output_type": "stream",
     "text": [
      "Saving output to 02_generate_tfl.html\n"
     ]
    },
    {
     "data": {
      "text/plain": [
       "['/home/jovyan/workspace/output/notebooks/02_generate_tfl.ipynb']"
      ]
     },
     "execution_count": 5,
     "metadata": {},
     "output_type": "execute_result"
    }
   ],
   "source": [
    "r_parameters = {\n",
    "    \"STUDY_START_DATE\": STUDY_START_DATE,\n",
    "    \"STUDY_END_DATE\": STUDY_END_DATE,\n",
    "}\n",
    "\n",
    "r_notebooks = [\n",
    "    \"02_generate_tfl.Rmd\"\n",
    "]\n",
    "\n",
    "convert_file_and_run_ipynb(\n",
    "    notebooks=r_notebooks,\n",
    "    output_dir=OUTPUT_NB_PATH,\n",
    "    parameters=r_parameters,\n",
    "    language=\"R\"\n",
    ")"
   ]
  }
 ],
 "metadata": {
  "kernelspec": {
   "display_name": "venv",
   "language": "python",
   "name": "python3"
  },
  "language_info": {
   "codemirror_mode": {
    "name": "ipython",
    "version": 3
   },
   "file_extension": ".py",
   "mimetype": "text/x-python",
   "name": "python",
   "nbconvert_exporter": "python",
   "pygments_lexer": "ipython3",
   "version": "3.12.10"
  },
  "papermill": {
   "default_parameters": {},
   "duration": 58.892684,
   "end_time": "2025-05-19T22:32:42.217252",
   "environment_variables": {},
   "exception": null,
   "input_path": "source/papermill.ipynb",
   "output_path": "output/notebooks/papermill.ipynb",
   "parameters": {},
   "start_time": "2025-05-19T22:31:43.324568",
   "version": "2.6.0"
  }
 },
 "nbformat": 4,
 "nbformat_minor": 5
}